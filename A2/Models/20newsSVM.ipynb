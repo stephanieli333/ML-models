{
  "nbformat": 4,
  "nbformat_minor": 0,
  "metadata": {
    "colab": {
      "name": "20newsSVM",
      "provenance": []
    },
    "kernelspec": {
      "name": "python3",
      "display_name": "Python 3"
    },
    "accelerator": "GPU"
  },
  "cells": [
    {
      "cell_type": "code",
      "metadata": {
        "id": "gqhnpeRe8CqY",
        "colab_type": "code",
        "outputId": "b92a4be4-1ad6-489f-b995-a53743cf8afd",
        "colab": {
          "base_uri": "https://localhost:8080/",
          "height": 51
        }
      },
      "source": [
        "from sklearn.datasets import load_files\n",
        "from sklearn.svm import LinearSVC\n",
        "from sklearn.model_selection import GridSearchCV\n",
        "from sklearn.pipeline import make_pipeline\n",
        "from sklearn.feature_extraction.text import TfidfVectorizer\n",
        "from sklearn.ensemble import AdaBoostClassifier\n",
        "from sklearn.datasets import fetch_20newsgroups\n",
        "from sklearn.pipeline import make_pipeline\n",
        "from sklearn.feature_extraction.text import TfidfVectorizer\n",
        "from sklearn.feature_extraction.text import CountVectorizer\n",
        "from sklearn.model_selection import GridSearchCV\n",
        "import os, ssl\n",
        "\n",
        "if (not os.environ.get('PYTHONHTTPSVERIFY', '') and\n",
        "    getattr(ssl, '_create_unverified_context', None)): \n",
        "    ssl._create_default_https_context = ssl._create_unverified_context\n",
        "newsgroups_train = fetch_20newsgroups(subset='train', remove=['headers', 'footers', 'quotes'])\n",
        "text_train, y_train = newsgroups_train.data, newsgroups_train.target\n",
        "\n",
        "newsgroups_test = fetch_20newsgroups(subset='test', remove=['headers', 'footers', 'quotes'])\n",
        "text_test, y_test = newsgroups_test.data, newsgroups_test.target\n",
        "\n",
        "\n",
        "\n",
        "banned_words = {'and','of','is','the'}"
      ],
      "execution_count": 0,
      "outputs": [
        {
          "output_type": "stream",
          "text": [
            "Downloading 20news dataset. This may take a few minutes.\n",
            "Downloading dataset from https://ndownloader.figshare.com/files/5975967 (14 MB)\n"
          ],
          "name": "stderr"
        }
      ]
    },
    {
      "cell_type": "code",
      "metadata": {
        "id": "spBy_ypy8fwh",
        "colab_type": "code",
        "outputId": "f0644942-f6d1-4218-c9ec-05b372faa5eb",
        "colab": {
          "base_uri": "https://localhost:8080/",
          "height": 527
        }
      },
      "source": [
        "#SVM MODEL \n",
        "from sklearn.svm import SVC\n",
        "from sklearn.model_selection import GridSearchCV\n",
        "from sklearn.pipeline import make_pipeline\n",
        "from sklearn.feature_extraction.text import TfidfVectorizer\n",
        "\n",
        "pipe = make_pipeline(TfidfVectorizer(min_df=5, stop_words = banned_words), SVC())\n",
        "param_grid = {'svc__gamma':[1, 5, 10], 'tfidfvectorizer__ngram_range':[(1,2)], 'svc__C':[10, 100]}\n",
        "grid = GridSearchCV(pipe, param_grid, cv = 2)\n",
        "grid.fit(text_train, y_train)\n",
        "\n",
        "##running above cell"
      ],
      "execution_count": 0,
      "outputs": [
        {
          "output_type": "execute_result",
          "data": {
            "text/plain": [
              "GridSearchCV(cv=2, error_score=nan,\n",
              "             estimator=Pipeline(memory=None,\n",
              "                                steps=[('tfidfvectorizer',\n",
              "                                        TfidfVectorizer(analyzer='word',\n",
              "                                                        binary=False,\n",
              "                                                        decode_error='strict',\n",
              "                                                        dtype=<class 'numpy.float64'>,\n",
              "                                                        encoding='utf-8',\n",
              "                                                        input='content',\n",
              "                                                        lowercase=True,\n",
              "                                                        max_df=1.0,\n",
              "                                                        max_features=None,\n",
              "                                                        min_df=5,\n",
              "                                                        ngram_range=(1, 1),\n",
              "                                                        norm='l2',\n",
              "                                                        preprocessor=None,\n",
              "                                                        smooth_idf=True,\n",
              "                                                        stop_words={'an...\n",
              "                                            decision_function_shape='ovr',\n",
              "                                            degree=3, gamma='scale',\n",
              "                                            kernel='rbf', max_iter=-1,\n",
              "                                            probability=False,\n",
              "                                            random_state=None, shrinking=True,\n",
              "                                            tol=0.001, verbose=False))],\n",
              "                                verbose=False),\n",
              "             iid='deprecated', n_jobs=None,\n",
              "             param_grid={'svc__C': [10, 100], 'svc__gamma': [1, 5, 10],\n",
              "                         'tfidfvectorizer__ngram_range': [(1, 2)]},\n",
              "             pre_dispatch='2*n_jobs', refit=True, return_train_score=False,\n",
              "             scoring=None, verbose=0)"
            ]
          },
          "metadata": {
            "tags": []
          },
          "execution_count": 18
        }
      ]
    },
    {
      "cell_type": "code",
      "metadata": {
        "id": "-8MnLpv18hZw",
        "colab_type": "code",
        "outputId": "97df443f-77c5-484a-a9cb-f9d2a1f66acb",
        "colab": {
          "base_uri": "https://localhost:8080/",
          "height": 734
        }
      },
      "source": [
        "print(\"CV Best Estimator: {}\".format(grid.best_estimator_))\n",
        "print(\"CV Results: {}\".format(grid.cv_results_))\n",
        "print('best RBFSVM2 CV score: {}'.format(grid.best_score_))\n",
        "print(\"accuracy: {}\".format(grid.score(text_test, y_test)))"
      ],
      "execution_count": 0,
      "outputs": [
        {
          "output_type": "stream",
          "text": [
            "CV Best Estimator: Pipeline(memory=None,\n",
            "         steps=[('tfidfvectorizer',\n",
            "                 TfidfVectorizer(analyzer='word', binary=False,\n",
            "                                 decode_error='strict',\n",
            "                                 dtype=<class 'numpy.float64'>,\n",
            "                                 encoding='utf-8', input='content',\n",
            "                                 lowercase=True, max_df=1.0, max_features=None,\n",
            "                                 min_df=5, ngram_range=(1, 2), norm='l2',\n",
            "                                 preprocessor=None, smooth_idf=True,\n",
            "                                 stop_words={'is', 'the', 'and', 'of'},\n",
            "                                 strip_accents=None, sublinear_tf=False,\n",
            "                                 token_pattern='(?u)\\\\b\\\\w\\\\w+\\\\b',\n",
            "                                 tokenizer=None, use_idf=True,\n",
            "                                 vocabulary=None)),\n",
            "                ('svc',\n",
            "                 SVC(C=10, break_ties=False, cache_size=200, class_weight=None,\n",
            "                     coef0=0.0, decision_function_shape='ovr', degree=3,\n",
            "                     gamma=1, kernel='rbf', max_iter=-1, probability=False,\n",
            "                     random_state=None, shrinking=True, tol=0.001,\n",
            "                     verbose=False))],\n",
            "         verbose=False)\n",
            "CV Results: {'mean_fit_time': array([57.9014957 , 57.72709918, 59.01774347, 58.42469752, 58.53983212,\n",
            "       57.14248967]), 'std_fit_time': array([0.07046103, 0.85566711, 1.37164676, 1.04276478, 0.20926595,\n",
            "       0.61662221]), 'mean_score_time': array([29.96609068, 31.5614444 , 32.50111461, 32.05141509, 33.37003553,\n",
            "       30.98256338]), 'std_score_time': array([0.3202076 , 1.31969988, 0.26682663, 0.16456878, 1.59449828,\n",
            "       0.28663027]), 'param_svc__C': masked_array(data=[10, 10, 10, 100, 100, 100],\n",
            "             mask=[False, False, False, False, False, False],\n",
            "       fill_value='?',\n",
            "            dtype=object), 'param_svc__gamma': masked_array(data=[1, 5, 10, 1, 5, 10],\n",
            "             mask=[False, False, False, False, False, False],\n",
            "       fill_value='?',\n",
            "            dtype=object), 'param_tfidfvectorizer__ngram_range': masked_array(data=[(1, 2), (1, 2), (1, 2), (1, 2), (1, 2), (1, 2)],\n",
            "             mask=[False, False, False, False, False, False],\n",
            "       fill_value='?',\n",
            "            dtype=object), 'params': [{'svc__C': 10, 'svc__gamma': 1, 'tfidfvectorizer__ngram_range': (1, 2)}, {'svc__C': 10, 'svc__gamma': 5, 'tfidfvectorizer__ngram_range': (1, 2)}, {'svc__C': 10, 'svc__gamma': 10, 'tfidfvectorizer__ngram_range': (1, 2)}, {'svc__C': 100, 'svc__gamma': 1, 'tfidfvectorizer__ngram_range': (1, 2)}, {'svc__C': 100, 'svc__gamma': 5, 'tfidfvectorizer__ngram_range': (1, 2)}, {'svc__C': 100, 'svc__gamma': 10, 'tfidfvectorizer__ngram_range': (1, 2)}], 'split0_test_score': array([0.67880502, 0.11507866, 0.07017854, 0.67880502, 0.11507866,\n",
            "       0.07017854]), 'split1_test_score': array([0.68163337, 0.16881739, 0.07283012, 0.68163337, 0.16881739,\n",
            "       0.07283012]), 'mean_test_score': array([0.6802192 , 0.14194803, 0.07150433, 0.6802192 , 0.14194803,\n",
            "       0.07150433]), 'std_test_score': array([0.00141418, 0.02686937, 0.00132579, 0.00141418, 0.02686937,\n",
            "       0.00132579]), 'rank_test_score': array([1, 3, 5, 1, 3, 5], dtype=int32)}\n",
            "best RBFSVM2 CV score: 0.6802191974544811\n",
            "accuracy: 0.6537440254912373\n"
          ],
          "name": "stdout"
        }
      ]
    },
    {
      "cell_type": "code",
      "metadata": {
        "id": "WycL31vX9RH6",
        "colab_type": "code",
        "outputId": "38e028bd-735d-4270-ad2d-c3ee94bd7b70",
        "colab": {
          "base_uri": "https://localhost:8080/",
          "height": 460
        }
      },
      "source": [
        "from sklearn.metrics import confusion_matrix\n",
        "import mglearn\n",
        "scores = grid.cv_results_['mean_test_score'].reshape(3,2).T\n",
        "#visualize heat map\n",
        "heatmap = mglearn.tools.heatmap(\n",
        "    scores, xlabel = 'C', ylabel = 'gamma', cmap = 'viridis', fmt = '%.3f',\n",
        "    xticklabels = param_grid['svc__gamma'],\n",
        "    yticklabels = param_grid['svc__C'])\n",
        "plt.colorbar(heatmap)"
      ],
      "execution_count": 0,
      "outputs": [
        {
          "output_type": "error",
          "ename": "NameError",
          "evalue": "ignored",
          "traceback": [
            "\u001b[0;31m---------------------------------------------------------------------------\u001b[0m",
            "\u001b[0;31mNameError\u001b[0m                                 Traceback (most recent call last)",
            "\u001b[0;32m<ipython-input-26-eb3f3d84520c>\u001b[0m in \u001b[0;36m<module>\u001b[0;34m()\u001b[0m\n\u001b[1;32m      7\u001b[0m     \u001b[0mxticklabels\u001b[0m \u001b[0;34m=\u001b[0m \u001b[0mparam_grid\u001b[0m\u001b[0;34m[\u001b[0m\u001b[0;34m'svc__gamma'\u001b[0m\u001b[0;34m]\u001b[0m\u001b[0;34m,\u001b[0m\u001b[0;34m\u001b[0m\u001b[0;34m\u001b[0m\u001b[0m\n\u001b[1;32m      8\u001b[0m     yticklabels = param_grid['svc__C'])\n\u001b[0;32m----> 9\u001b[0;31m \u001b[0mplt\u001b[0m\u001b[0;34m.\u001b[0m\u001b[0mcolorbar\u001b[0m\u001b[0;34m(\u001b[0m\u001b[0mheatmap\u001b[0m\u001b[0;34m)\u001b[0m\u001b[0;34m\u001b[0m\u001b[0;34m\u001b[0m\u001b[0m\n\u001b[0m",
            "\u001b[0;31mNameError\u001b[0m: name 'plt' is not defined"
          ]
        },
        {
          "output_type": "display_data",
          "data": {
            "image/png": "[encoded data removed]",
            "text/plain": [
              "<Figure size 432x288 with 1 Axes>"
            ]
          },
          "metadata": {
            "tags": []
          }
        }
      ]
    },
    {
      "cell_type": "code",
      "metadata": {
        "id": "juMExIm89VBF",
        "colab_type": "code",
        "outputId": "5f2ccf12-34ac-4b19-e2b8-b5ac714a877f",
        "colab": {
          "base_uri": "https://localhost:8080/",
          "height": 51
        }
      },
      "source": [
        "print(\"20 News RBFSVM2 Mean Fit Times:{}\".format(grid.cv_results_['mean_fit_time']))\n",
        "\n",
        "print(\"20 News RBFSVM accuracy: {}\".format(grid.score(text_test, y_test)))"
      ],
      "execution_count": 0,
      "outputs": [
        {
          "output_type": "stream",
          "text": [
            "20 News RBFSVM Mean Fit Times:[57.9014957  57.72709918 59.01774347 58.42469752 58.53983212 57.14248967]\n",
            "20 News RBFSVM accuracy: 0.6537440254912373\n"
          ],
          "name": "stdout"
        }
      ]
    },
    {
      "cell_type": "code",
      "metadata": {
        "id": "0Rf9hKRo2iAf",
        "colab_type": "code",
        "outputId": "665ea91b-0aa6-48d2-bc76-93be97706622",
        "colab": {
          "base_uri": "https://localhost:8080/",
          "height": 34
        }
      },
      "source": [
        "print('20 news RBFSVM std: {}'.format(grid.cv_results_['std_test_score']))"
      ],
      "execution_count": 0,
      "outputs": [
        {
          "output_type": "stream",
          "text": [
            "20 news RBFSVM std: [0.00141418 0.02686937 0.00132579 0.00141418 0.02686937 0.00132579]\n"
          ],
          "name": "stdout"
        }
      ]
    },
    {
      "cell_type": "code",
      "metadata": {
        "id": "UFm1qvYn2ivV",
        "colab_type": "code",
        "outputId": "7c2b9c87-58a3-41b3-809c-19af44fe5c4a",
        "colab": {
          "base_uri": "https://localhost:8080/",
          "height": 309
        }
      },
      "source": [
        "pip install mglearn"
      ],
      "execution_count": 0,
      "outputs": [
        {
          "output_type": "stream",
          "text": [
            "Requirement already satisfied: mglearn in /usr/local/lib/python3.6/dist-packages (0.1.7)\n",
            "Requirement already satisfied: pandas in /usr/local/lib/python3.6/dist-packages (from mglearn) (0.25.3)\n",
            "Requirement already satisfied: imageio in /usr/local/lib/python3.6/dist-packages (from mglearn) (2.4.1)\n",
            "Requirement already satisfied: pillow in /usr/local/lib/python3.6/dist-packages (from mglearn) (6.2.2)\n",
            "Requirement already satisfied: matplotlib in /usr/local/lib/python3.6/dist-packages (from mglearn) (3.1.3)\n",
            "Requirement already satisfied: scikit-learn in /usr/local/lib/python3.6/dist-packages (from mglearn) (0.22.1)\n",
            "Requirement already satisfied: cycler in /usr/local/lib/python3.6/dist-packages (from mglearn) (0.10.0)\n",
            "Requirement already satisfied: numpy in /usr/local/lib/python3.6/dist-packages (from mglearn) (1.17.5)\n",
            "Requirement already satisfied: pytz>=2017.2 in /usr/local/lib/python3.6/dist-packages (from pandas->mglearn) (2018.9)\n",
            "Requirement already satisfied: python-dateutil>=2.6.1 in /usr/local/lib/python3.6/dist-packages (from pandas->mglearn) (2.6.1)\n",
            "Requirement already satisfied: kiwisolver>=1.0.1 in /usr/local/lib/python3.6/dist-packages (from matplotlib->mglearn) (1.1.0)\n",
            "Requirement already satisfied: pyparsing!=2.0.4,!=2.1.2,!=2.1.6,>=2.0.1 in /usr/local/lib/python3.6/dist-packages (from matplotlib->mglearn) (2.4.6)\n",
            "Requirement already satisfied: joblib>=0.11 in /usr/local/lib/python3.6/dist-packages (from scikit-learn->mglearn) (0.14.1)\n",
            "Requirement already satisfied: scipy>=0.17.0 in /usr/local/lib/python3.6/dist-packages (from scikit-learn->mglearn) (1.4.1)\n",
            "Requirement already satisfied: six in /usr/local/lib/python3.6/dist-packages (from cycler->mglearn) (1.12.0)\n",
            "Requirement already satisfied: setuptools in /usr/local/lib/python3.6/dist-packages (from kiwisolver>=1.0.1->matplotlib->mglearn) (45.2.0)\n"
          ],
          "name": "stdout"
        }
      ]
    },
    {
      "cell_type": "code",
      "metadata": {
        "id": "9Dlu3Vq2S3HI",
        "colab_type": "code",
        "colab": {}
      },
      "source": [
        ""
      ],
      "execution_count": 0,
      "outputs": []
    }
  ]
}