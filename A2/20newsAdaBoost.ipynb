{
  "nbformat": 4,
  "nbformat_minor": 0,
  "metadata": {
    "colab": {
      "name": "20newsAdaBoost",
      "provenance": []
    },
    "kernelspec": {
      "name": "python3",
      "display_name": "Python 3"
    },
    "accelerator": "GPU"
  },
  "cells": [
    {
      "cell_type": "code",
      "metadata": {
        "id": "hjUKq3Rh3XSP",
        "colab_type": "code",
        "colab": {}
      },
      "source": [
        "from sklearn.datasets import fetch_20newsgroups\n",
        "from sklearn.pipeline import make_pipeline\n",
        "from sklearn.feature_extraction.text import TfidfVectorizer\n",
        "from sklearn.feature_extraction.text import CountVectorizer\n",
        "from sklearn.model_selection import GridSearchCV\n",
        "import os, ssl\n",
        "\n",
        "if (not os.environ.get('PYTHONHTTPSVERIFY', '') and\n",
        "    getattr(ssl, '_create_unverified_context', None)): \n",
        "    ssl._create_default_https_context = ssl._create_unverified_context\n",
        "newsgroups_train = fetch_20newsgroups(subset='train', remove=['headers', 'footers', 'quotes'])\n",
        "\n",
        "text_train, y_train = newsgroups_train.data, newsgroups_train.target\n",
        "\n",
        "newsgroups_test = fetch_20newsgroups(subset='test', remove=['headers', 'footers', 'quotes'])\n",
        "text_test, y_test = newsgroups_test.data, newsgroups_test.target\n",
        "\n",
        "\n",
        "\n",
        "banned_words = {'and','of','is','the'}"
      ],
      "execution_count": 0,
      "outputs": []
    },
    {
      "cell_type": "code",
      "metadata": {
        "id": "HM_0M-9Y3fZS",
        "colab_type": "code",
        "outputId": "01a68f4b-3051-40ce-db01-1e6e2e561555",
        "colab": {
          "base_uri": "https://localhost:8080/",
          "height": 510
        }
      },
      "source": [
        "from sklearn.ensemble import AdaBoostClassifier\n",
        "from sklearn.model_selection import GridSearchCV\n",
        "from sklearn.pipeline import make_pipeline\n",
        "from sklearn.feature_extraction.text import TfidfVectorizer\n",
        "\n",
        "pipe = make_pipeline(TfidfVectorizer(min_df = 5, stop_words = banned_words), AdaBoostClassifier())\n",
        "param_grid = {'adaboostclassifier__n_estimators':[100,150,200], 'tfidfvectorizer__ngram_range':[(1,2)],\n",
        "              'adaboostclassifier__learning_rate':[0.5,0.75,1]}\n",
        "grid = GridSearchCV(pipe, param_grid, cv = 5)\n",
        "grid.fit(text_train, y_train)\n"
      ],
      "execution_count": 0,
      "outputs": [
        {
          "output_type": "execute_result",
          "data": {
            "text/plain": [
              "GridSearchCV(cv=5, error_score=nan,\n",
              "             estimator=Pipeline(memory=None,\n",
              "                                steps=[('tfidfvectorizer',\n",
              "                                        TfidfVectorizer(analyzer='word',\n",
              "                                                        binary=False,\n",
              "                                                        decode_error='strict',\n",
              "                                                        dtype=<class 'numpy.float64'>,\n",
              "                                                        encoding='utf-8',\n",
              "                                                        input='content',\n",
              "                                                        lowercase=True,\n",
              "                                                        max_df=1.0,\n",
              "                                                        max_features=None,\n",
              "                                                        min_df=5,\n",
              "                                                        ngram_range=(1, 1),\n",
              "                                                        norm='l2',\n",
              "                                                        preprocessor=None,\n",
              "                                                        smooth_idf=True,\n",
              "                                                        stop_words={'an...\n",
              "                                                           base_estimator=None,\n",
              "                                                           learning_rate=1.0,\n",
              "                                                           n_estimators=50,\n",
              "                                                           random_state=None))],\n",
              "                                verbose=False),\n",
              "             iid='deprecated', n_jobs=None,\n",
              "             param_grid={'adaboostclassifier__learning_rate': [0.5, 0.75, 1],\n",
              "                         'adaboostclassifier__n_estimators': [100, 150, 200],\n",
              "                         'tfidfvectorizer__ngram_range': [(1, 2)]},\n",
              "             pre_dispatch='2*n_jobs', refit=True, return_train_score=False,\n",
              "             scoring=None, verbose=0)"
            ]
          },
          "metadata": {
            "tags": []
          },
          "execution_count": 5
        }
      ]
    },
    {
      "cell_type": "code",
      "metadata": {
        "id": "w41UwMV88xND",
        "colab_type": "code",
        "outputId": "ccd30e20-3ad4-484b-a889-e62d9bb90feb",
        "colab": {
          "base_uri": "https://localhost:8080/",
          "height": 548
        }
      },
      "source": [
        "from sklearn.metrics import confusion_matrix\n",
        "import mglearn\n",
        "scores = grid.cv_results_['mean_test_score'].reshape(3,3).T\n",
        "#visualize heat map\n",
        "heatmap = mglearn.tools.heatmap(\n",
        "    scores, xlabel = 'learning rate', ylabel = 'n estimators', cmap = 'viridis', fmt = '%.3f',\n",
        "    xticklabels = param_grid['adaboostclassifier__learning_rate'],\n",
        "    yticklabels = param_grid['adaboostclassifier__n_estimators'])\n",
        "plt.colorbar(heatmap)"
      ],
      "execution_count": 0,
      "outputs": [
        {
          "output_type": "stream",
          "text": [
            "/usr/local/lib/python3.6/dist-packages/sklearn/externals/six.py:31: FutureWarning: The module is deprecated in version 0.21 and will be removed in version 0.23 since we've dropped support for Python 2.7. Please rely on the official version of six (https://pypi.org/project/six/).\n",
            "  \"(https://pypi.org/project/six/).\", FutureWarning)\n",
            "/usr/local/lib/python3.6/dist-packages/sklearn/externals/joblib/__init__.py:15: FutureWarning: sklearn.externals.joblib is deprecated in 0.21 and will be removed in 0.23. Please import this functionality directly from joblib, which can be installed with: pip install joblib. If this warning is raised when loading pickled models, you may need to re-serialize those models with scikit-learn 0.21+.\n",
            "  warnings.warn(msg, category=FutureWarning)\n"
          ],
          "name": "stderr"
        },
        {
          "output_type": "error",
          "ename": "NameError",
          "evalue": "ignored",
          "traceback": [
            "\u001b[0;31m---------------------------------------------------------------------------\u001b[0m",
            "\u001b[0;31mNameError\u001b[0m                                 Traceback (most recent call last)",
            "\u001b[0;32m<ipython-input-6-7c4b67e8790a>\u001b[0m in \u001b[0;36m<module>\u001b[0;34m()\u001b[0m\n\u001b[1;32m      7\u001b[0m     \u001b[0mxticklabels\u001b[0m \u001b[0;34m=\u001b[0m \u001b[0mparam_grid\u001b[0m\u001b[0;34m[\u001b[0m\u001b[0;34m'adaboostclassifier__learning_rate'\u001b[0m\u001b[0;34m]\u001b[0m\u001b[0;34m,\u001b[0m\u001b[0;34m\u001b[0m\u001b[0;34m\u001b[0m\u001b[0m\n\u001b[1;32m      8\u001b[0m     yticklabels = param_grid['adaboostclassifier__n_estimators'])\n\u001b[0;32m----> 9\u001b[0;31m \u001b[0mplt\u001b[0m\u001b[0;34m.\u001b[0m\u001b[0mcolorbar\u001b[0m\u001b[0;34m(\u001b[0m\u001b[0mheatmap\u001b[0m\u001b[0;34m)\u001b[0m\u001b[0;34m\u001b[0m\u001b[0;34m\u001b[0m\u001b[0m\n\u001b[0m",
            "\u001b[0;31mNameError\u001b[0m: name 'plt' is not defined"
          ]
        },
        {
          "output_type": "display_data",
          "data": {
            "image/png": "[encoded data removed]",
            "text/plain": [
              "<Figure size 432x288 with 1 Axes>"
            ]
          },
          "metadata": {
            "tags": []
          }
        }
      ]
    },
    {
      "cell_type": "code",
      "metadata": {
        "id": "kbvEOzMz7WnK",
        "colab_type": "code",
        "outputId": "e2e5d155-0de1-4e40-c6d8-20112cdbca43",
        "colab": {
          "base_uri": "https://localhost:8080/",
          "height": 819
        }
      },
      "source": [
        "print(\"CV Best Estimator: {}\".format(grid.best_estimator_))\n",
        "print(\"CV Results: {}\".format(grid.cv_results_))\n",
        "print('best CV score: {}'.format(grid.best_score_))\n",
        "print(\"accuracy: {}\".format(grid.score(text_test, y_test)))"
      ],
      "execution_count": 0,
      "outputs": [
        {
          "output_type": "stream",
          "text": [
            "CV Best Estimator: Pipeline(memory=None,\n",
            "         steps=[('tfidfvectorizer',\n",
            "                 TfidfVectorizer(analyzer='word', binary=False,\n",
            "                                 decode_error='strict',\n",
            "                                 dtype=<class 'numpy.float64'>,\n",
            "                                 encoding='utf-8', input='content',\n",
            "                                 lowercase=True, max_df=1.0, max_features=None,\n",
            "                                 min_df=5, ngram_range=(1, 2), norm='l2',\n",
            "                                 preprocessor=None, smooth_idf=True,\n",
            "                                 stop_words={'and', 'of', 'the', 'is'},\n",
            "                                 strip_accents=None, sublinear_tf=False,\n",
            "                                 token_pattern='(?u)\\\\b\\\\w\\\\w+\\\\b',\n",
            "                                 tokenizer=None, use_idf=True,\n",
            "                                 vocabulary=None)),\n",
            "                ('adaboostclassifier',\n",
            "                 AdaBoostClassifier(algorithm='SAMME.R', base_estimator=None,\n",
            "                                    learning_rate=0.5, n_estimators=150,\n",
            "                                    random_state=None))],\n",
            "         verbose=False)\n",
            "CV Results: {'mean_fit_time': array([31.76351228, 44.52990789, 55.32494974, 30.61430616, 42.3870801 ,\n",
            "       54.91695423, 30.54108067, 42.62618294, 55.74918904]), 'std_fit_time': array([0.53711766, 0.52453508, 0.6114423 , 0.33813078, 0.53354474,\n",
            "       0.80115978, 0.3616523 , 0.45112652, 0.69661264]), 'mean_score_time': array([1.17465091, 1.4035779 , 1.60222211, 1.12650023, 1.36839986,\n",
            "       1.58690104, 1.13909798, 1.37683125, 1.6320477 ]), 'std_score_time': array([0.04784778, 0.07057747, 0.03809938, 0.03474257, 0.02581026,\n",
            "       0.02508638, 0.04555165, 0.04276938, 0.06467586]), 'param_adaboostclassifier__learning_rate': masked_array(data=[0.5, 0.5, 0.5, 0.75, 0.75, 0.75, 1, 1, 1],\n",
            "             mask=[False, False, False, False, False, False, False, False,\n",
            "                   False],\n",
            "       fill_value='?',\n",
            "            dtype=object), 'param_adaboostclassifier__n_estimators': masked_array(data=[100, 150, 200, 100, 150, 200, 100, 150, 200],\n",
            "             mask=[False, False, False, False, False, False, False, False,\n",
            "                   False],\n",
            "       fill_value='?',\n",
            "            dtype=object), 'param_tfidfvectorizer__ngram_range': masked_array(data=[(1, 2), (1, 2), (1, 2), (1, 2), (1, 2), (1, 2), (1, 2),\n",
            "                   (1, 2), (1, 2)],\n",
            "             mask=[False, False, False, False, False, False, False, False,\n",
            "                   False],\n",
            "       fill_value='?',\n",
            "            dtype=object), 'params': [{'adaboostclassifier__learning_rate': 0.5, 'adaboostclassifier__n_estimators': 100, 'tfidfvectorizer__ngram_range': (1, 2)}, {'adaboostclassifier__learning_rate': 0.5, 'adaboostclassifier__n_estimators': 150, 'tfidfvectorizer__ngram_range': (1, 2)}, {'adaboostclassifier__learning_rate': 0.5, 'adaboostclassifier__n_estimators': 200, 'tfidfvectorizer__ngram_range': (1, 2)}, {'adaboostclassifier__learning_rate': 0.75, 'adaboostclassifier__n_estimators': 100, 'tfidfvectorizer__ngram_range': (1, 2)}, {'adaboostclassifier__learning_rate': 0.75, 'adaboostclassifier__n_estimators': 150, 'tfidfvectorizer__ngram_range': (1, 2)}, {'adaboostclassifier__learning_rate': 0.75, 'adaboostclassifier__n_estimators': 200, 'tfidfvectorizer__ngram_range': (1, 2)}, {'adaboostclassifier__learning_rate': 1, 'adaboostclassifier__n_estimators': 100, 'tfidfvectorizer__ngram_range': (1, 2)}, {'adaboostclassifier__learning_rate': 1, 'adaboostclassifier__n_estimators': 150, 'tfidfvectorizer__ngram_range': (1, 2)}, {'adaboostclassifier__learning_rate': 1, 'adaboostclassifier__n_estimators': 200, 'tfidfvectorizer__ngram_range': (1, 2)}], 'split0_test_score': array([0.45824127, 0.46089262, 0.44763588, 0.46531153, 0.46752099,\n",
            "       0.44896156, 0.45117101, 0.4516129 , 0.43968184]), 'split1_test_score': array([0.45824127, 0.46531153, 0.44763588, 0.46221829, 0.47149801,\n",
            "       0.44454264, 0.45117101, 0.4569156 , 0.43923995]), 'split2_test_score': array([0.45647371, 0.46884666, 0.4467521 , 0.45647371, 0.4569156 ,\n",
            "       0.45293858, 0.45558992, 0.44100751, 0.44365886]), 'split3_test_score': array([0.48387097, 0.48784799, 0.47370747, 0.48121962, 0.49005745,\n",
            "       0.48033584, 0.4821034 , 0.49005745, 0.46619532]), 'split4_test_score': array([0.46507515, 0.48452697, 0.46463307, 0.46109637, 0.45800177,\n",
            "       0.4602122 , 0.45623342, 0.46153846, 0.45225464]), 'mean_test_score': array([0.46438048, 0.47348515, 0.45607288, 0.46526391, 0.46879876,\n",
            "       0.45739816, 0.45925375, 0.46022638, 0.44820612]), 'std_test_score': array([0.01018095, 0.01072481, 0.01107699, 0.00846757, 0.01198862,\n",
            "       0.01257286, 0.01162165, 0.01640812, 0.01013642]), 'rank_test_score': array([4, 1, 8, 3, 2, 7, 6, 5, 9], dtype=int32)}\n",
            "best CV score: 0.4734851548358184\n",
            "accuracy: 0.4479553903345725\n"
          ],
          "name": "stdout"
        }
      ]
    },
    {
      "cell_type": "code",
      "metadata": {
        "id": "FX0Jitrx7W-6",
        "colab_type": "code",
        "outputId": "416a7d02-d4f0-4f2d-e810-5299f769dbb0",
        "colab": {
          "base_uri": "https://localhost:8080/",
          "height": 68
        }
      },
      "source": [
        "print(\"20 News ADABOOST Mean Fit Times:{}\".format(grid.cv_results_['mean_fit_time']))\n",
        "\n",
        "print(\"20 News ADABOOST accuracy: {}\".format(grid.score(text_test, y_test)))"
      ],
      "execution_count": 0,
      "outputs": [
        {
          "output_type": "stream",
          "text": [
            "20 News ADABOOST Mean Fit Times:[31.76351228 44.52990789 55.32494974 30.61430616 42.3870801  54.91695423\n",
            " 30.54108067 42.62618294 55.74918904]\n",
            "20 News ADABOOST accuracy: 0.4479553903345725\n"
          ],
          "name": "stdout"
        }
      ]
    },
    {
      "cell_type": "markdown",
      "metadata": {
        "id": "Kv2zrTrh7Xsm",
        "colab_type": "text"
      },
      "source": [
        ""
      ]
    },
    {
      "cell_type": "code",
      "metadata": {
        "id": "c0TRR6L051ub",
        "colab_type": "code",
        "outputId": "fe31cb9b-f2f1-4d9b-9267-306fc5fc9c53",
        "colab": {
          "base_uri": "https://localhost:8080/",
          "height": 51
        }
      },
      "source": [
        "print('20News')\n",
        "print('20NEWS ADABOOST fittime:{:.4f}'.format(grid.cv_results_['std_fit_time'][8]))"
      ],
      "execution_count": 0,
      "outputs": [
        {
          "output_type": "stream",
          "text": [
            "20News\n",
            "20NEWS ADABOOST fittime:0.6966\n"
          ],
          "name": "stdout"
        }
      ]
    },
    {
      "cell_type": "code",
      "metadata": {
        "id": "vLxPS9GFSaYc",
        "colab_type": "code",
        "colab": {}
      },
      "source": [
        ""
      ],
      "execution_count": 0,
      "outputs": []
    }
  ]
}