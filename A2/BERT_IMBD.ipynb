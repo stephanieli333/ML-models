{
 "cells": [
  {
   "cell_type": "code",
   "execution_count": null,
   "metadata": {
    "collapsed": true
   },
   "outputs": [],
   "source": [
    "import ktrain\n",
    "from ktrain import text as txt\n",
    "\n",
    "# load data\n",
    "(x_train, y_train), (x_test, y_test), preproc = txt.texts_from_folder('/aclImdb', maxlen=500, \n",
    "                                                                     preprocess_mode='bert',\n",
    "                                                                     train_test_names=['train', 'test'],\n",
    "                                                                     classes=['pos', 'neg'])\n",
    "\n",
    "# load model\n",
    "model = txt.text_classifier('bert', (x_train, y_train), preproc=preproc)\n",
    "\n",
    "# wrap model and data in ktrain.Learner object\n",
    "learner = ktrain.get_learner(model, \n",
    "                             train_data=(x_train, y_train), \n",
    "                             val_data=(x_test, y_test), \n",
    "                             batch_size=6)\n",
    "\n",
    "# find good learning rate\n",
    "learner.lr_find()             # briefly simulate training to find good learning rate\n",
    "learner.lr_plot()             # visually identify best learning rate\n",
    "\n",
    "# train using 1cycle learning rate schedule for 3 epochs\n",
    "learner.fit_onecycle(2e-5, 3) "
   ]
  },
  {
   "cell_type": "code",
   "execution_count": null,
   "outputs": [],
   "source": [
    "\n"
   ],
   "metadata": {
    "collapsed": false,
    "pycharm": {
     "name": "#%%\n"
    }
   }
  }
 ],
 "metadata": {
  "language_info": {
   "codemirror_mode": {
    "name": "ipython",
    "version": 2
   },
   "file_extension": ".py",
   "mimetype": "text/x-python",
   "name": "python",
   "nbconvert_exporter": "python",
   "pygments_lexer": "ipython2",
   "version": "2.7.6"
  },
  "kernelspec": {
   "name": "pycharm-5702ffd7",
   "language": "python",
   "display_name": "PyCharm (comp551a2)"
  },
  "pycharm": {
   "stem_cell": {
    "cell_type": "raw",
    "source": [],
    "metadata": {
     "collapsed": false
    }
   }
  }
 },
 "nbformat": 4,
 "nbformat_minor": 0
}