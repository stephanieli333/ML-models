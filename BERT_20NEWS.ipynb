{
 "cells": [
  {
   "cell_type": "code",
   "execution_count": 1,
   "metadata": {
    "collapsed": true,
    "pycharm": {
     "is_executing": false
    }
   },
   "outputs": [],
   "source": [
    "from sklearn.datasets import fetch_20newsgroups\n",
    "from sklearn.pipeline import make_pipeline\n",
    "from sklearn.feature_extraction.text import TfidfVectorizer\n",
    "from sklearn.feature_extraction.text import CountVectorizer\n",
    "from sklearn.model_selection import GridSearchCV\n",
    "import os, ssl"
   ]
  },
  {
   "cell_type": "code",
   "execution_count": null,
   "outputs": [],
   "source": [
    "if (not os.environ.get('PYTHONHTTPSVERIFY', '') and\n",
    "    getattr(ssl, '_create_unverified_context', None)): \n",
    "    ssl._create_default_https_context = ssl._create_unverified_context\n",
    "newsgroups_train = fetch_20newsgroups(subset='train', shuffle = True, random_state = 42, remove=['headers', 'footers', 'quotes'])\n",
    "newsgroups_test = fetch_20newsgroups(subset='test', shuffle = True, random_state = 42, remove=['headers', 'footers', 'quotes'])\n",
    "\n",
    "X_train = newsgroups_train.data\n",
    "y_train = newsgroups_train.target\n",
    "X_test = newsgroups_test.data\n",
    "y_test = newsgroups_test.target\n",
    "\n",
    "\n"
   ],
   "metadata": {
    "collapsed": false,
    "pycharm": {
     "name": "#%%\n"
    }
   }
  },
  {
   "cell_type": "code",
   "execution_count": null,
   "outputs": [],
   "source": [
    "import ktrain\n",
    "from ktrain import text as txt \n",
    "\n",
    "(X_train,  y_train), (X_test, y_test), preproc = txt.texts_from_array(x_train=X_train, y_train=y_train,\n",
    "                                                                       x_test=X_test, y_test=y_test,\n",
    "                                                                       class_names=newsgroups_train.target_names,\n",
    "                                                                       preprocess_mode='bert',\n",
    "                                                                       ngram_range=1, \n",
    "                                                                       maxlen=350, \n",
    "                                                                       max_features=35000)\n",
    "\n",
    "\n",
    "model = txt.text_classifier('bert', (X_train, y_train), preproc=preproc) #load model\n",
    "\n",
    "learner = ktrain.get_learner(model, train_data=(X_train, y_train), \n",
    "                             val_data=(X_test, y_test), \n",
    "                             batch_size=6)\n",
    "# find good learning rate\n",
    "learner.lr_find()             # briefly simulate training to find good learning rate\n",
    "learner.lr_plot()             # visually identify best learning rate\n",
    "\n",
    "# train using 1cycle learning rate schedule for 3 epochs\n",
    "learner.fit_onecycle(2e-5, 1) \n",
    "\n",
    "\n"
   ],
   "metadata": {
    "collapsed": false,
    "pycharm": {
     "name": "#%%\n"
    }
   }
  }
 ],
 "metadata": {
  "kernelspec": {
   "display_name": "Python 3",
   "language": "python",
   "name": "python3"
  },
  "language_info": {
   "codemirror_mode": {
    "name": "ipython",
    "version": 2
   },
   "file_extension": ".py",
   "mimetype": "text/x-python",
   "name": "python",
   "nbconvert_exporter": "python",
   "pygments_lexer": "ipython2",
   "version": "2.7.6"
  },
  "pycharm": {
   "stem_cell": {
    "cell_type": "raw",
    "source": [],
    "metadata": {
     "collapsed": false
    }
   }
  }
 },
 "nbformat": 4,
 "nbformat_minor": 0
}