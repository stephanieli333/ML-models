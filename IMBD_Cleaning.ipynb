{
 "cells": [
  {
   "cell_type": "code",
   "execution_count": 1,
   "metadata": {
    "collapsed": true,
    "pycharm": {
     "is_executing": false
    }
   },
   "outputs": [],
   "source": [
    "from sklearn.datasets import load_files\n",
    "from sklearn.feature_extraction.text import CountVectorizer\n",
    "import numpy as np\n",
    "import pandas as pd\n",
    "reviews_train = load_files('aclImdb/train/')"
   ]
  },
  {
   "cell_type": "code",
   "execution_count": 13,
   "outputs": [
    {
     "name": "stdout",
     "text": [
      "type of text_train: <class 'list'>\nlength of text_train: 25000\n3\n"
     ],
     "output_type": "stream"
    }
   ],
   "source": [
    "text_train, y_train = reviews_train.data, reviews_train.target\n",
    "print(\"type of text_train: {}\".format(type(text_train)))\n",
    "print('length of text_train: {}'.format(len(text_train)))\n",
    "a = np.array(3)\n",
    "print(a)"
   ],
   "metadata": {
    "collapsed": false,
    "pycharm": {
     "name": "#%%\n",
     "is_executing": false
    }
   }
  },
  {
   "cell_type": "code",
   "execution_count": 4,
   "outputs": [
    {
     "name": "stdout",
     "text": [
      "samples per class (training): [12500 12500]\n"
     ],
     "output_type": "stream"
    }
   ],
   "source": [
    "text_train = [review.replace(b\"<br />\", b\" \") for review in text_train]\n",
    "print(\"samples per class (training): {}\".format(np.bincount(y_train)))\n"
   ],
   "metadata": {
    "collapsed": false,
    "pycharm": {
     "name": "#%%\n",
     "is_executing": false
    }
   }
  },
  {
   "cell_type": "code",
   "execution_count": 5,
   "outputs": [],
   "source": [
    "reviews_test = load_files('aclImdb/test')\n",
    "text_test, y_test = reviews_test.data, reviews_test.target\n",
    "text_test = [review.replace(b\"<br />\", b\" \") for review in text_test]\n"
   ],
   "metadata": {
    "collapsed": false,
    "pycharm": {
     "name": "#%%\n",
     "is_executing": false
    }
   }
  },
  {
   "cell_type": "code",
   "execution_count": 6,
   "outputs": [
    {
     "name": "stdout",
     "text": [
      "X_train:\n<25000x74849 sparse matrix of type '<class 'numpy.int64'>'\n\twith 3431196 stored elements in Compressed Sparse Row format>\n"
     ],
     "output_type": "stream"
    }
   ],
   "source": [
    "vect = CountVectorizer().fit(text_train)\n",
    "X_train = vect.transform(text_train) #transforming into sparse matrix\n",
    "print(\"X_train:\\n{}\".format(repr(X_train)))\n"
   ],
   "metadata": {
    "collapsed": false,
    "pycharm": {
     "name": "#%%\n",
     "is_executing": false
    }
   }
  },
  {
   "cell_type": "code",
   "execution_count": 7,
   "outputs": [
    {
     "name": "stdout",
     "text": [
      "number of features: 74849\nFirst 15 features: ['00', '000', '0000000000001', '00001', '00015', '000s', '001', '003830', '006', '007', '0079', '0080', '0083', '0093638', '00am']\nFeatures 20010 to 20030:\n['dratted', 'draub', 'draught', 'draughts', 'draughtswoman', 'draw', 'drawback', 'drawbacks', 'drawer', 'drawers', 'drawing', 'drawings', 'drawl', 'drawled', 'drawling', 'drawn', 'draws', 'draza', 'dre', 'drea']\n"
     ],
     "output_type": "stream"
    }
   ],
   "source": [
    "feature_names = vect.get_feature_names()\n",
    "print(\"number of features: {}\".format(len(feature_names)))\n",
    "print(\"First 15 features: {}\".format(feature_names[:15]))\n",
    "print(\"Features 20010 to 20030:\\n{}\".format(feature_names[20010:20030]))\n",
    "\n"
   ],
   "metadata": {
    "collapsed": false,
    "pycharm": {
     "name": "#%%\n",
     "is_executing": false
    }
   }
  },
  {
   "cell_type": "code",
   "execution_count": 8,
   "outputs": [
    {
     "name": "stdout",
     "text": [
      "X_train with min_df:<25000x27271 sparse matrix of type '<class 'numpy.int64'>'\n\twith 3354014 stored elements in Compressed Sparse Row format>\n"
     ],
     "output_type": "stream"
    }
   ],
   "source": [
    "#Tokens that appears only in a single document is unlikely to appear\n",
    "#in the test set thus not helpful; we require tokens to show up at least in 5 reviews\n",
    "vect = CountVectorizer(min_df=5).fit(text_train)\n",
    "X_train = vect.transform(text_train)\n",
    "print(\"X_train with min_df:{}\".format(repr(X_train)))"
   ],
   "metadata": {
    "collapsed": false,
    "pycharm": {
     "name": "#%%\n",
     "is_executing": false
    }
   }
  },
  {
   "cell_type": "code",
   "execution_count": 9,
   "outputs": [
    {
     "name": "stdout",
     "text": [
      "X_train with stop words:\n<25000x27267 sparse matrix of type '<class 'numpy.int64'>'\n\twith 3258904 stored elements in Compressed Sparse Row format>\n"
     ],
     "output_type": "stream"
    }
   ],
   "source": [
    "#removing stop words and imposing min_df\n",
    "remove_these = ['the', 'and', 'is', 'of']\n",
    "vect = CountVectorizer(min_df=5, stop_words = remove_these).fit(text_train)\n",
    "X_train = vect.transform(text_train)\n",
    "print(\"X_train with stop words:\\n{}\".format(repr(X_train)))\n",
    "\n",
    "#representing text data as bag of words:"
   ],
   "metadata": {
    "collapsed": false,
    "pycharm": {
     "name": "#%%\n",
     "is_executing": false
    }
   }
  },
  {
   "cell_type": "code",
   "execution_count": 10,
   "outputs": [
    {
     "name": "stdout",
     "text": [
      "Vocabulary size: 13\nVocabulary content:\n {'the': 9, 'fool': 3, 'doth': 2, 'think': 10, 'he': 4, 'is': 6, 'wise': 12, 'but': 1, 'man': 8, 'knows': 7, 'himself': 5, 'to': 11, 'be': 0}\n"
     ],
     "output_type": "stream"
    }
   ],
   "source": [
    "bards_words = [\"The fool doth think he is wise,\", \n",
    "               \"but the wise man knows himself to be a fool\"]\n",
    "vect = CountVectorizer()\n",
    "vect.fit(bards_words)\n",
    "print(\"Vocabulary size: {}\".format(len(vect.vocabulary_)))\n",
    "print(\"Vocabulary content:\\n {}\".format(vect.vocabulary_))\n"
   ],
   "metadata": {
    "collapsed": false,
    "pycharm": {
     "name": "#%%\n",
     "is_executing": false
    }
   }
  },
  {
   "cell_type": "code",
   "execution_count": 11,
   "outputs": [],
   "source": [
    "#bag_of_words = vect.transform(bards_words)\n",
    "#print(\"bag_of_words: {}\".format(repr(bag_of_words)))"
   ],
   "metadata": {
    "collapsed": false,
    "pycharm": {
     "name": "#%%\n",
     "is_executing": false
    }
   }
  },
  {
   "cell_type": "code",
   "execution_count": 11,
   "outputs": [],
   "source": [
    "\n"
   ],
   "metadata": {
    "collapsed": false,
    "pycharm": {
     "name": "#%%\n",
     "is_executing": false
    }
   }
  }
 ],
 "metadata": {
  "language_info": {
   "codemirror_mode": {
    "name": "ipython",
    "version": 2
   },
   "file_extension": ".py",
   "mimetype": "text/x-python",
   "name": "python",
   "nbconvert_exporter": "python",
   "pygments_lexer": "ipython2",
   "version": "2.7.6"
  },
  "kernelspec": {
   "name": "python3",
   "language": "python",
   "display_name": "Python 3"
  },
  "pycharm": {
   "stem_cell": {
    "cell_type": "raw",
    "source": [],
    "metadata": {
     "collapsed": false
    }
   }
  }
 },
 "nbformat": 4,
 "nbformat_minor": 0
}