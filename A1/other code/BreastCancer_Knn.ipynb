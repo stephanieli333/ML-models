{
 "cells": [
  {
   "cell_type": "code",
   "execution_count": 2,
   "metadata": {
    "collapsed": true,
    "pycharm": {
     "is_executing": false,
     "name": "#%%\n"
    }
   },
   "outputs": [
    {
     "name": "stderr",
     "text": [
      "/Users/AndrewCheng/Machine_Learning/lib/python3.6/site-packages/sklearn/externals/six.py:31: FutureWarning: The module is deprecated in version 0.21 and will be removed in version 0.23 since we've dropped support for Python 2.7. Please rely on the official version of six (https://pypi.org/project/six/).\n  \"(https://pypi.org/project/six/).\", FutureWarning)\n/Users/AndrewCheng/Machine_Learning/lib/python3.6/site-packages/sklearn/externals/joblib/__init__.py:15: FutureWarning: sklearn.externals.joblib is deprecated in 0.21 and will be removed in 0.23. Please import this functionality directly from joblib, which can be installed with: pip install joblib. If this warning is raised when loading pickled models, you may need to re-serialize those models with scikit-learn 0.21+.\n  warnings.warn(msg, category=FutureWarning)\n"
     ],
     "output_type": "stream"
    }
   ],
   "source": [
    "from scipy import sparse\n",
    "import sklearn\n",
    "import numpy as np\n",
    "import pandas as pd\n",
    "import mglearn\n",
    "import matplotlib.pyplot as plt\n",
    "from sklearn.model_selection import train_test_split \n",
    "from sklearn.datasets import load_breast_cancer\n",
    "import sklearn.neighbors\n",
    "cancer = load_breast_cancer()\n",
    "#print(clf.score(X_test, y_test))"
   ]
  },
  {
   "cell_type": "code",
   "execution_count": 3,
   "outputs": [
    {
     "data": {
      "text/plain": "<matplotlib.legend.Legend at 0x125282898>"
     },
     "metadata": {},
     "output_type": "execute_result",
     "execution_count": 3
    },
    {
     "data": {
      "text/plain": "<Figure size 432x288 with 1 Axes>",
      "image/png": "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\n"
     },
     "metadata": {
      "needs_background": "light"
     },
     "output_type": "display_data"
    }
   ],
   "source": [
    "X_train, X_test, y_train, y_test = train_test_split(\n",
    "    cancer.data, cancer.target, stratify=cancer.target, random_state=66)\n",
    "\n",
    "training_accuracy = []\n",
    "test_accuracy = []\n",
    "#try n_neighbors from 1 to 1-\n",
    "neighbors_settings = range(1,11)\n",
    "\n",
    "for n_neighbors in neighbors_settings:\n",
    "    #build the moel\n",
    "    clf = sklearn.neighbors.KNeighborsClassifier(n_neighbors=n_neighbors)\n",
    "    clf.fit(X_train,y_train)\n",
    "    #record training accuracy\n",
    "    training_accuracy.append(clf.score(X_train,y_train))\n",
    "    #record generalization accuracy\n",
    "    test_accuracy.append(clf.score(X_test,y_test))\n",
    "plt.plot(neighbors_settings, training_accuracy, label = \"training accuracy\")\n",
    "plt.plot(neighbors_settings, test_accuracy, label = 'test accuracy' )\n",
    "plt.xlabel(\"n_neighbors\")\n",
    "plt.ylabel('accuracy')\n",
    "plt.legend()"
   ],
   "metadata": {
    "collapsed": false,
    "pycharm": {
     "name": "#%%\n",
     "is_executing": false
    }
   }
  },
  {
   "cell_type": "code",
<<<<<<< HEAD
   "execution_count": 66,
   "outputs": [],
   "source": [],
=======
   "execution_count": 5,
   "outputs": [
    {
     "name": "stdout",
     "text": [
      "[    0   100   200   300   400   500   600   700   800   900  1000  1100\n  1200  1300  1400  1500  1600  1700  1800  1900  2000  2100  2200  2300\n  2400  2500  2600  2700  2800  2900  3000  3100  3200  3300  3400  3500\n  3600  3700  3800  3900  4000  4100  4200  4300  4400  4500  4600  4700\n  4800  4900  5000  5100  5200  5300  5400  5500  5600  5700  5800  5900\n  6000  6100  6200  6300  6400  6500  6600  6700  6800  6900  7000  7100\n  7200  7300  7400  7500  7600  7700  7800  7900  8000  8100  8200  8300\n  8400  8500  8600  8700  8800  8900  9000  9100  9200  9300  9400  9500\n  9600  9700  9800  9900 10000]\n"
     ],
     "output_type": "stream"
    }
   ],
   "source": [
    "max_iter = np.arange(0,10001, 100)\n",
    "print(max_iter)\n"
   ],
>>>>>>> chris's-branch-1
   "metadata": {
    "collapsed": false,
    "pycharm": {
     "name": "#%%\n",
     "is_executing": false
    }
   }
  },
  {
   "cell_type": "code",
   "execution_count": null,
   "outputs": [],
<<<<<<< HEAD
=======
   "source": [],
   "metadata": {
    "collapsed": false,
    "pycharm": {
     "name": "#%%\n"
    }
   }
  },
  {
   "cell_type": "code",
   "execution_count": null,
   "outputs": [],
>>>>>>> chris's-branch-1
   "source": [
    "\n"
   ],
   "metadata": {
    "collapsed": false,
    "pycharm": {
     "name": "#%%\n"
    }
   }
  }
 ],
 "metadata": {
  "language_info": {
   "codemirror_mode": {
    "name": "ipython",
    "version": 2
   },
   "file_extension": ".py",
   "mimetype": "text/x-python",
   "name": "python",
   "nbconvert_exporter": "python",
   "pygments_lexer": "ipython2",
   "version": "2.7.6"
  },
  "kernelspec": {
   "name": "python3",
   "language": "python",
   "display_name": "Python 3"
  },
  "pycharm": {
   "stem_cell": {
    "cell_type": "raw",
    "source": [],
    "metadata": {
     "collapsed": false
    }
   }
  }
 },
 "nbformat": 4,
 "nbformat_minor": 0
}