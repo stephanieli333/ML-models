{
 "cells": [
  {
   "cell_type": "code",
   "execution_count": 12,
   "metadata": {
    "collapsed": true,
    "pycharm": {
     "is_executing": false
    }
   },
   "outputs": [],
   "source": [
    "from scipy import sparse\n",
    "import sklearn\n",
    "import numpy as np\n",
    "import pandas as pd\n",
    "import mglearn\n",
    "import matplotlib.pyplot as plt\n",
    "from sklearn.model_selection import train_test_split \n",
    "from sklearn.linear_model import LogisticRegression\n",
    "from sklearn.svm import LinearSVC"
   ]
  },
  {
   "cell_type": "code",
   "execution_count": 14,
   "outputs": [
    {
     "name": "stderr",
     "text": [
      "/Users/AndrewCheng/Machine_Learning/lib/python3.6/site-packages/sklearn/neural_network/_multilayer_perceptron.py:571: ConvergenceWarning: Stochastic Optimizer: Maximum iterations (200) reached and the optimization hasn't converged yet.\n  % self.max_iter, ConvergenceWarning)\n"
     ],
     "output_type": "stream"
    },
    {
     "traceback": [
      "\u001b[0;31m---------------------------------------------------------------------------\u001b[0m",
      "\u001b[0;31mAttributeError\u001b[0m                            Traceback (most recent call last)",
      "\u001b[0;32m<ipython-input-14-635359f554b6>\u001b[0m in \u001b[0;36m<module>\u001b[0;34m\u001b[0m\n\u001b[1;32m      7\u001b[0m                                                     stratify=y, random_state=42)\n\u001b[1;32m      8\u001b[0m \u001b[0mmlp\u001b[0m \u001b[0;34m=\u001b[0m \u001b[0mMLPClassifier\u001b[0m\u001b[0;34m(\u001b[0m \u001b[0mrandom_state\u001b[0m\u001b[0;34m=\u001b[0m\u001b[0;36m0\u001b[0m\u001b[0;34m)\u001b[0m\u001b[0;34m.\u001b[0m\u001b[0mfit\u001b[0m\u001b[0;34m(\u001b[0m\u001b[0mX_train\u001b[0m\u001b[0;34m,\u001b[0m \u001b[0my_train\u001b[0m\u001b[0;34m)\u001b[0m\u001b[0;34m\u001b[0m\u001b[0;34m\u001b[0m\u001b[0m\n\u001b[0;32m----> 9\u001b[0;31m \u001b[0mmglearn\u001b[0m\u001b[0;34m.\u001b[0m\u001b[0mplots\u001b[0m\u001b[0;34m.\u001b[0m\u001b[0mplt_2d_separator\u001b[0m\u001b[0;34m(\u001b[0m\u001b[0mmlp\u001b[0m\u001b[0;34m,\u001b[0m \u001b[0mX_train\u001b[0m\u001b[0;34m,\u001b[0m \u001b[0mfill\u001b[0m\u001b[0;34m=\u001b[0m\u001b[0;32mTrue\u001b[0m\u001b[0;34m,\u001b[0m \u001b[0malpha\u001b[0m\u001b[0;34m=\u001b[0m\u001b[0;36m.3\u001b[0m\u001b[0;34m)\u001b[0m\u001b[0;34m\u001b[0m\u001b[0;34m\u001b[0m\u001b[0m\n\u001b[0m",
      "\u001b[0;31mAttributeError\u001b[0m: module 'mglearn.plots' has no attribute 'plt_2d_separator'"
     ],
     "ename": "AttributeError",
     "evalue": "module 'mglearn.plots' has no attribute 'plt_2d_separator'",
     "output_type": "error"
    }
   ],
   "source": [
    "from sklearn.datasets import make_moons\n",
    "from sklearn.neural_network import MLPClassifier\n",
    "\n",
    "X,y = make_moons(n_samples=100, noise=0.25, random_state=3)\n",
    "\n",
    "X_train, X_test, y_train, y_test = train_test_split(X,y,\n",
    "                                                    stratify=y, random_state=42)\n",
    "mlp = MLPClassifier( random_state=0).fit(X_train, y_train)\n",
    "mglearn.plots.plt_2d_separator(mlp, X_train, fill=True, alpha=.3)"
   ],
   "metadata": {
    "collapsed": false,
    "pycharm": {
     "name": "#%%\n",
     "is_executing": false
    }
   }
  },
  {
   "cell_type": "code",
   "execution_count": 6,
   "outputs": [
    {
     "name": "stdout",
     "text": [
      "[[ 2.38554042e-01 -1.48228395e-01]\n [ 4.04783343e-01  9.14412623e-01]\n [-1.59599895e-01  9.87181783e-01]\n [ 3.27051370e-02  2.46345416e-01]\n [ 5.37461710e-01 -3.86599306e-01]\n [ 9.67948422e-01 -4.99486216e-01]\n [ 4.81607432e-01 -3.55142763e-01]\n [ 7.15472413e-01 -4.58667853e-01]\n [-4.62538290e-01  8.86599306e-01]\n [ 1.76144596e+00 -1.48228395e-01]\n [ 9.91790014e-01  1.27877162e-01]\n [ 9.81559157e-01  1.91158629e-01]\n [ 1.90096887e+00  6.61162609e-02]\n [ 1.15959990e+00 -4.87181783e-01]\n [-9.00968868e-01  4.33883739e-01]\n [ 1.62348980e+00 -2.81831482e-01]\n [ 6.54634946e-01 -4.38468422e-01]\n [ 3.45365054e-01  9.38468422e-01]\n [ 1.61911895e-01 -4.55349012e-02]\n [ 6.72300890e-01  7.40277997e-01]\n [-1.00000000e+00  1.22464680e-16]\n [ 9.90311321e-02  6.61162609e-02]\n [ 9.49055747e-01  3.15108218e-01]\n [ 2.22520934e-01  9.74927912e-01]\n [ 1.83808810e+00 -4.55349012e-02]\n [ 1.98586378e-01 -9.81105305e-02]\n [-4.04783343e-01  9.14412623e-01]\n [ 1.28452759e+00 -4.58667853e-01]\n [ 1.96729486e+00  2.46345416e-01]\n [ 2.00000000e+00  5.00000000e-01]\n [ 5.72116660e-01  8.20172255e-01]\n [-7.18349350e-01  6.95682551e-01]\n [ 1.98155916e+00  3.08841371e-01]\n [ 4.27883340e-01 -3.20172255e-01]\n [-2.84527587e-01  9.58667853e-01]\n [ 3.27699110e-01 -2.40277997e-01]\n [ 8.38088105e-01  5.45534901e-01]\n [ 1.80141362e+00 -9.81105305e-02]\n [-9.97945393e-01  6.40702200e-02]\n [-6.72300890e-01  7.40277997e-01]\n [ 9.03976974e-01 -4.95379113e-01]\n [ 9.67294863e-01  2.53654584e-01]\n [ 1.34536505e+00 -4.38468422e-01]\n [ 3.76510198e-01 -2.81831482e-01]\n [-5.72116660e-01  8.20172255e-01]\n [ 3.20515776e-02  9.99486216e-01]\n [-5.18392568e-01  8.55142763e-01]\n [ 9.60230259e-02  9.95379113e-01]\n [ 1.22252093e+00 -4.74927912e-01]\n [ 9.26916757e-01  3.75267005e-01]\n [ 1.00000000e+00  0.00000000e+00]\n [-9.67294863e-01  2.53654584e-01]\n [ 7.61445958e-01  6.48228395e-01]\n [-9.26916757e-01  3.75267005e-01]\n [ 1.28681296e-01  9.28244800e-03]\n [ 0.00000000e+00  5.00000000e-01]\n [ 4.62538290e-01  8.86599306e-01]\n [-9.49055747e-01  3.15108218e-01]\n [ 1.99794539e+00  4.35929780e-01]\n [ 5.95216657e-01 -4.14412623e-01]\n [ 2.05460725e-03  4.35929780e-01]\n [ 7.30832427e-02  1.24732995e-01]\n [ 1.67230089e+00 -2.40277997e-01]\n [-8.38088105e-01  5.45534901e-01]\n [-2.22520934e-01  9.74927912e-01]\n [ 7.18349350e-01  6.95682551e-01]\n [ 1.59599895e-01  9.87181783e-01]\n [-7.61445958e-01  6.48228395e-01]\n [ 7.77479066e-01 -4.74927912e-01]\n [ 1.92691676e+00  1.24732995e-01]\n [ 1.84408430e-02  3.08841371e-01]\n [-3.20515776e-02  9.99486216e-01]\n [-8.71318704e-01  4.90717552e-01]\n [ 1.87131870e+00  9.28244800e-03]\n [ 5.18392568e-01  8.55142763e-01]\n [-9.81559157e-01  1.91158629e-01]\n [-3.45365054e-01  9.38468422e-01]\n [ 8.40400105e-01 -4.87181783e-01]\n [ 8.01413622e-01  5.98110530e-01]\n [ 1.94905575e+00  1.84891782e-01]\n [ 1.57211666e+00 -3.20172255e-01]\n [ 9.00968868e-01  4.33883739e-01]\n [ 1.40478334e+00 -4.14412623e-01]\n [ 1.09602303e+00 -4.95379113e-01]\n [ 5.09442530e-02  1.84891782e-01]\n [ 1.03205158e+00 -4.99486216e-01]\n [ 6.23489802e-01  7.81831482e-01]\n [-6.23489802e-01  7.81831482e-01]\n [ 1.46253829e+00 -3.86599306e-01]\n [ 1.71834935e+00 -1.95682551e-01]\n [ 8.20998618e-03  3.72122838e-01]\n [-9.91790014e-01  1.27877162e-01]\n [-8.01413622e-01  5.98110530e-01]\n [ 9.97945393e-01  6.40702200e-02]\n [ 1.51839257e+00 -3.55142763e-01]\n [ 1.99179001e+00  3.72122838e-01]\n [ 2.81650650e-01 -1.95682551e-01]\n [ 8.71318704e-01  4.90717552e-01]\n [ 2.84527587e-01  9.58667853e-01]\n [-9.60230259e-02  9.95379113e-01]]\n"
     ],
     "output_type": "stream"
    }
   ],
   "source": [],
   "metadata": {
    "collapsed": false,
    "pycharm": {
     "name": "#%%\n",
     "is_executing": false
    }
   }
  },
  {
   "cell_type": "code",
   "execution_count": null,
   "outputs": [],
   "source": [
    "\n"
   ],
   "metadata": {
    "collapsed": false,
    "pycharm": {
     "name": "#%%\n"
    }
   }
  }
 ],
 "metadata": {
  "language_info": {
   "codemirror_mode": {
    "name": "ipython",
    "version": 2
   },
   "file_extension": ".py",
   "mimetype": "text/x-python",
   "name": "python",
   "nbconvert_exporter": "python",
   "pygments_lexer": "ipython2",
   "version": "2.7.6"
  },
  "kernelspec": {
   "name": "python3",
   "language": "python",
   "display_name": "Python 3"
  },
  "pycharm": {
   "stem_cell": {
    "cell_type": "raw",
    "source": [],
    "metadata": {
     "collapsed": false
    }
   }
  }
 },
 "nbformat": 4,
 "nbformat_minor": 0
}