{
 "cells": [],
 "metadata": {
  "language_info": {
   "codemirror_mode": {
    "name": "ipython",
    "version": 2
   },
   "file_extension": ".py",
   "mimetype": "text/x-python",
   "name": "python",
   "nbconvert_exporter": "python",
   "pygments_lexer": "ipython2",
   "version": "2.7.6"
  },
  "kernelspec": {
   "name": "python3",
   "language": "python",
   "display_name": "Python 3"
  },
  "pycharm": {
   "stem_cell": {
    "cell_type": "raw",
    "source": [
     "from scipy import sparse\n",
     "import sklearn\n",
     "import numpy as np\n",
     "import pandas as pd\n",
     "import mglearn\n",
     "import matplotlib.pyplot as plt\n",
     "from sklearn.model_selection import train_test_split \n",
     "from sklearn.datasets import load_breast_cancer\n",
     "import sklearn.neighbors"
    ],
    "metadata": {
     "collapsed": false
    }
   }
  }
 },
 "nbformat": 4,
 "nbformat_minor": 0
}