{
 "cells": [
  {
   "cell_type": "code",
   "execution_count": 2,
   "metadata": {
    "collapsed": true,
    "pycharm": {
     "is_executing": false
    }
   },
   "outputs": [
    {
     "name": "stderr",
     "output_type": "stream",
     "text": [
      "/Users/AndrewCheng/Machine_Learning/lib/python3.6/site-packages/sklearn/externals/six.py:31: FutureWarning: The module is deprecated in version 0.21 and will be removed in version 0.23 since we've dropped support for Python 2.7. Please rely on the official version of six (https://pypi.org/project/six/).\n",
      "  \"(https://pypi.org/project/six/).\", FutureWarning)\n",
      "/Users/AndrewCheng/Machine_Learning/lib/python3.6/site-packages/sklearn/externals/joblib/__init__.py:15: FutureWarning: sklearn.externals.joblib is deprecated in 0.21 and will be removed in 0.23. Please import this functionality directly from joblib, which can be installed with: pip install joblib. If this warning is raised when loading pickled models, you may need to re-serialize those models with scikit-learn 0.21+.\n",
      "  warnings.warn(msg, category=FutureWarning)\n"
     ]
    }
   ],
   "source": [
    "from scipy import sparse\n",
    "import sklearn\n",
    "import numpy as np\n",
    "import pandas as pd\n",
    "import mglearn\n",
    "import matplotlib.pyplot as plt\n",
    "from sklearn.model_selection import train_test_split \n",
    "from sklearn.model_selection import KFold, cross_validate,cross_val_predict,cross_val_score\n",
    "from sklearn.datasets import load_breast_cancer\n",
    "import sklearn.neighbors\n",
    "from sklearn.linear_model import SGDClassifier\n",
    "from sklearn.naive_bayes import GaussianNB\n",
    "from sklearn.linear_model import LinearRegression\n",
    "from sklearn.linear_model import LogisticRegression"
   ]
  },
  {
   "cell_type": "code",
   "execution_count": 2,
   "metadata": {
    "pycharm": {
     "is_executing": false,
     "name": "#%%\n"
    }
   },
   "outputs": [],
   "source": []
  },
  {
   "cell_type": "code",
   "execution_count": 4,
   "metadata": {
    "pycharm": {
     "is_executing": false,
     "name": "#%%\n"
    }
   },
   "outputs": [
    {
     "name": "stdout",
     "output_type": "stream",
     "text": [
      "[[   50    13     0 ...     0     0     0]\n",
      " [   38     9     0 ...     0     0     0]\n",
      " [   53     7     0 ...     0     0     0]\n",
      " ...\n",
      " [   22     9     0 ...     0     0     0]\n",
      " [   52     9 15024 ...     0     0     1]\n",
      " [   39    13  2174 ...     0     0     0]]\n"
     ]
    }
   ],
   "source": [
    "df_unscaled = pd.read_csv('/Users/AndrewCheng/Documents/School_Subjects/COMP551/Assignment1_Data/Adult_Unscaled.csv')\n",
    "df_unscaled = df_unscaled.drop(columns=['fnlwgt', df_unscaled.columns[0]])\n",
    "#df_unscaled.head()\n",
    "adult_unscaled = df_unscaled.values\n",
    "print(adult_unscaled)"
   ]
  },
  {
   "cell_type": "code",
   "execution_count": 5,
   "metadata": {
    "pycharm": {
     "is_executing": false,
     "name": "#%%\n"
    }
   },
   "outputs": [
    {
     "name": "stdout",
     "output_type": "stream",
     "text": [
      "[[   50    13     0 ...     1     0     0]\n",
      " [   38     9     0 ...     1     0     0]\n",
      " [   53     7     0 ...     1     0     0]\n",
      " ...\n",
      " [   22     9     0 ...     1     0     0]\n",
      " [   52     9 15024 ...     1     0     0]\n",
      " [   39    13  2174 ...     1     0     0]]\n"
     ]
    }
   ],
   "source": [
    "\n",
    "X = adult_unscaled[:,:-1]\n",
    "y = adult_unscaled[:,-1]\n",
    "print(X)"
   ]
  },
  {
   "cell_type": "code",
   "execution_count": 6,
   "metadata": {
    "pycharm": {
     "is_executing": false,
     "name": "#%%\n"
    }
   },
   "outputs": [
    {
     "data": {
      "text/plain": [
       "0.7967113114971489"
      ]
     },
     "execution_count": 6,
     "metadata": {},
     "output_type": "execute_result"
    }
   ],
   "source": [
    "X_train, X_test, y_train, y_test = train_test_split(X,y,random_state=42)\n",
    "SG = SGDClassifier(loss = \"log\", penalty='none')\n",
    "SG.fit(X_train,y_train)\n",
    "SG.score(X_test,y_test)"
   ]
  },
  {
   "cell_type": "code",
   "execution_count": 7,
   "metadata": {
    "pycharm": {
     "is_executing": false,
     "name": "#%%\n"
    }
   },
   "outputs": [
    {
     "name": "stdout",
     "output_type": "stream",
     "text": [
      "0.8227025593422623\n"
     ]
    }
   ],
   "source": [
    "GNB = GaussianNB()\n",
    "GNB.fit(X_train, y_train)\n",
    "print(GNB.score(X_test, y_test))\n",
    "\n",
    "\n",
    "\n",
    "\n",
    "\n"
   ]
  },
  {
   "cell_type": "code",
   "execution_count": 6,
   "metadata": {
    "pycharm": {
     "is_executing": false,
     "name": "#%%\n"
    }
   },
   "outputs": [],
   "source": [
    "df_wgt= pd.read_csv('/Users/AndrewCheng/Documents/School_Subjects/COMP551/Assignment1_Data/fnlweight.csv')\n"
   ]
  },
  {
   "cell_type": "code",
   "execution_count": 7,
   "metadata": {
    "pycharm": {
     "is_executing": false,
     "name": "#%%\n"
    }
   },
   "outputs": [],
   "source": [
    "fnl_wgt = df_wgt\n",
    "sample_weights = np.array(fnl_wgt.iloc[:,0])\n",
    "fnl_wgt = df_wgt.drop(columns=df_wgt.columns[0])\n",
    "\n",
    "\n"
   ]
  },
  {
   "cell_type": "code",
   "execution_count": 8,
   "metadata": {
    "pycharm": {
     "is_executing": false,
     "name": "#%%\n"
    }
   },
   "outputs": [
    {
     "name": "stdout",
     "output_type": "stream",
     "text": [
      "0.7983650915049127\n"
     ]
    }
   ],
   "source": [
    "X_train, X_test, y_train, y_test, w_train, w_test = train_test_split(X,y, sample_weights,random_state=42)\n",
    "SG = SGDClassifier(loss = \"log\", penalty='none')\n",
    "SG.fit(X_train,y_train)\n",
    "SG.score(X_test,y_test)\n",
    "SG.fit(X_train, y_train, sample_weight= w_train)\n",
    "print(SG.score(X_test,y_test, w_test))"
   ]
  },
  {
   "cell_type": "code",
   "execution_count": 9,
   "metadata": {
    "pycharm": {
     "is_executing": false,
     "name": "#%%\n"
    }
   },
   "outputs": [
    {
     "name": "stdout",
     "output_type": "stream",
     "text": [
      "Cross Validate Scores: [0.78020885 0.79744737 0.79757958 0.80321618 0.80702918]\n"
     ]
    }
   ],
   "source": [
    "np.random.seed(42)\n",
    "scores = cross_val_score(SG, X, y)\n",
    "print(\"Cross Validate Scores: {}\".format(scores))"
   ]
  },
  {
   "cell_type": "code",
   "execution_count": 10,
   "metadata": {
    "pycharm": {
     "is_executing": false,
     "name": "#%%\n"
    }
   },
   "outputs": [],
   "source": [
    "np.random.seed(42)\n",
    "scores = cross_val_score(SG,X,y, fit_params={'sample_weight':sample_weights})"
   ]
  },
  {
   "cell_type": "code",
   "execution_count": 11,
   "metadata": {
    "pycharm": {
     "is_executing": false,
     "name": "#%%\n"
    }
   },
   "outputs": [
    {
     "name": "stdout",
     "output_type": "stream",
     "text": [
      "[0.79081717 0.77589922 0.79675066 0.78000663 0.79757958]\n",
      "0.7882106526394839\n"
     ]
    }
   ],
   "source": [
    "print(scores)\n",
    "print(np.mean(scores))"
   ]
  },
  {
   "cell_type": "code",
   "execution_count": 23,
   "metadata": {
    "pycharm": {
     "is_executing": false,
     "name": "#%%\n"
    }
   },
   "outputs": [
    {
     "name": "stdout",
     "output_type": "stream",
     "text": [
      "cross_val_score Scores: [0.78020885 0.79744737 0.79757958 0.80321618 0.80702918]\n",
      "cross_validate_score: {'fit_time': array([0.27388906, 0.31166196, 0.49612308, 0.25658011, 0.48456192]), 'score_time': array([0.00195599, 0.00191116, 0.00208497, 0.00216079, 0.00261497]), 'test_score': array([0.79363501, 0.79214321, 0.8002321 , 0.80056366, 0.80835544]), 'train_score': array([0.79302914, 0.80044759, 0.79954414, 0.79776212, 0.80049731])}\n"
     ]
    }
   ],
   "source": [
    "np.random.seed(42)\n",
    "scores = cross_val_score(SG, X, y)\n",
    "validate_scores = cross_validate(SG,X,y, return_train_score=True)\n",
    "print(\"cross_val_score Scores: {}\".format(scores))\n",
    "print(\"cross_validate_score: {}\".format(validate_scores))\n"
   ]
  },
  {
   "cell_type": "code",
   "execution_count": 34,
   "metadata": {
    "pycharm": {
     "is_executing": false,
     "name": "#%%\n"
    }
   },
   "outputs": [
    {
     "name": "stderr",
     "output_type": "stream",
     "text": [
      "/Users/AndrewCheng/Machine_Learning/lib/python3.6/site-packages/sklearn/linear_model/_stochastic_gradient.py:557: ConvergenceWarning: Maximum number of iteration reached before convergence. Consider increasing max_iter to improve the fit.\n",
      "  ConvergenceWarning)\n",
      "/Users/AndrewCheng/Machine_Learning/lib/python3.6/site-packages/sklearn/linear_model/_stochastic_gradient.py:557: ConvergenceWarning: Maximum number of iteration reached before convergence. Consider increasing max_iter to improve the fit.\n",
      "  ConvergenceWarning)\n",
      "/Users/AndrewCheng/Machine_Learning/lib/python3.6/site-packages/sklearn/linear_model/_stochastic_gradient.py:557: ConvergenceWarning: Maximum number of iteration reached before convergence. Consider increasing max_iter to improve the fit.\n",
      "  ConvergenceWarning)\n",
      "/Users/AndrewCheng/Machine_Learning/lib/python3.6/site-packages/sklearn/linear_model/_stochastic_gradient.py:557: ConvergenceWarning: Maximum number of iteration reached before convergence. Consider increasing max_iter to improve the fit.\n",
      "  ConvergenceWarning)\n",
      "/Users/AndrewCheng/Machine_Learning/lib/python3.6/site-packages/sklearn/linear_model/_stochastic_gradient.py:557: ConvergenceWarning: Maximum number of iteration reached before convergence. Consider increasing max_iter to improve the fit.\n",
      "  ConvergenceWarning)\n",
      "/Users/AndrewCheng/Machine_Learning/lib/python3.6/site-packages/sklearn/linear_model/_stochastic_gradient.py:557: ConvergenceWarning: Maximum number of iteration reached before convergence. Consider increasing max_iter to improve the fit.\n",
      "  ConvergenceWarning)\n",
      "/Users/AndrewCheng/Machine_Learning/lib/python3.6/site-packages/sklearn/linear_model/_stochastic_gradient.py:557: ConvergenceWarning: Maximum number of iteration reached before convergence. Consider increasing max_iter to improve the fit.\n",
      "  ConvergenceWarning)\n",
      "/Users/AndrewCheng/Machine_Learning/lib/python3.6/site-packages/sklearn/linear_model/_stochastic_gradient.py:557: ConvergenceWarning: Maximum number of iteration reached before convergence. Consider increasing max_iter to improve the fit.\n",
      "  ConvergenceWarning)\n",
      "/Users/AndrewCheng/Machine_Learning/lib/python3.6/site-packages/sklearn/linear_model/_stochastic_gradient.py:557: ConvergenceWarning: Maximum number of iteration reached before convergence. Consider increasing max_iter to improve the fit.\n",
      "  ConvergenceWarning)\n",
      "/Users/AndrewCheng/Machine_Learning/lib/python3.6/site-packages/sklearn/linear_model/_stochastic_gradient.py:557: ConvergenceWarning: Maximum number of iteration reached before convergence. Consider increasing max_iter to improve the fit.\n",
      "  ConvergenceWarning)\n",
      "/Users/AndrewCheng/Machine_Learning/lib/python3.6/site-packages/sklearn/linear_model/_stochastic_gradient.py:557: ConvergenceWarning: Maximum number of iteration reached before convergence. Consider increasing max_iter to improve the fit.\n",
      "  ConvergenceWarning)\n",
      "/Users/AndrewCheng/Machine_Learning/lib/python3.6/site-packages/sklearn/linear_model/_stochastic_gradient.py:557: ConvergenceWarning: Maximum number of iteration reached before convergence. Consider increasing max_iter to improve the fit.\n",
      "  ConvergenceWarning)\n",
      "/Users/AndrewCheng/Machine_Learning/lib/python3.6/site-packages/sklearn/linear_model/_stochastic_gradient.py:557: ConvergenceWarning: Maximum number of iteration reached before convergence. Consider increasing max_iter to improve the fit.\n",
      "  ConvergenceWarning)\n",
      "/Users/AndrewCheng/Machine_Learning/lib/python3.6/site-packages/sklearn/linear_model/_stochastic_gradient.py:557: ConvergenceWarning: Maximum number of iteration reached before convergence. Consider increasing max_iter to improve the fit.\n",
      "  ConvergenceWarning)\n",
      "/Users/AndrewCheng/Machine_Learning/lib/python3.6/site-packages/sklearn/linear_model/_stochastic_gradient.py:557: ConvergenceWarning: Maximum number of iteration reached before convergence. Consider increasing max_iter to improve the fit.\n",
      "  ConvergenceWarning)\n",
      "/Users/AndrewCheng/Machine_Learning/lib/python3.6/site-packages/sklearn/linear_model/_stochastic_gradient.py:557: ConvergenceWarning: Maximum number of iteration reached before convergence. Consider increasing max_iter to improve the fit.\n",
      "  ConvergenceWarning)\n",
      "/Users/AndrewCheng/Machine_Learning/lib/python3.6/site-packages/sklearn/linear_model/_stochastic_gradient.py:557: ConvergenceWarning: Maximum number of iteration reached before convergence. Consider increasing max_iter to improve the fit.\n",
      "  ConvergenceWarning)\n",
      "/Users/AndrewCheng/Machine_Learning/lib/python3.6/site-packages/sklearn/linear_model/_stochastic_gradient.py:557: ConvergenceWarning: Maximum number of iteration reached before convergence. Consider increasing max_iter to improve the fit.\n",
      "  ConvergenceWarning)\n",
      "/Users/AndrewCheng/Machine_Learning/lib/python3.6/site-packages/sklearn/linear_model/_stochastic_gradient.py:557: ConvergenceWarning: Maximum number of iteration reached before convergence. Consider increasing max_iter to improve the fit.\n",
      "  ConvergenceWarning)\n",
      "/Users/AndrewCheng/Machine_Learning/lib/python3.6/site-packages/sklearn/linear_model/_stochastic_gradient.py:557: ConvergenceWarning: Maximum number of iteration reached before convergence. Consider increasing max_iter to improve the fit.\n",
      "  ConvergenceWarning)\n",
      "/Users/AndrewCheng/Machine_Learning/lib/python3.6/site-packages/sklearn/linear_model/_stochastic_gradient.py:557: ConvergenceWarning: Maximum number of iteration reached before convergence. Consider increasing max_iter to improve the fit.\n",
      "  ConvergenceWarning)\n",
      "/Users/AndrewCheng/Machine_Learning/lib/python3.6/site-packages/sklearn/linear_model/_stochastic_gradient.py:557: ConvergenceWarning: Maximum number of iteration reached before convergence. Consider increasing max_iter to improve the fit.\n",
      "  ConvergenceWarning)\n",
      "/Users/AndrewCheng/Machine_Learning/lib/python3.6/site-packages/ipykernel_launcher.py:24: MatplotlibDeprecationWarning: \n",
      "The frameon kwarg was deprecated in Matplotlib 3.1 and will be removed in 3.3. Use facecolor instead.\n"
     ]
    },
    {
     "data": {
      "image/png": "[encoded data removed]",
      "text/plain": [
       "<Figure size 432x288 with 1 Axes>"
      ]
     },
     "metadata": {
      "needs_background": "light"
     },
     "output_type": "display_data"
    }
   ],
   "source": [
    "training_accuracy = []\n",
    "testing_accuracy = []\n",
    "np.random.seed(42)\n",
    "max_iter = np.arange(1,1000, 10)\n",
    "\n",
    "for i in max_iter:\n",
    "    SG = SGDClassifier(loss = \"log\", penalty='none', max_iter= i)\n",
    "    scores_dict = cross_validate(SG, X,y, return_train_score=True)\n",
    "    train_score_mean = np.mean(scores_dict['train_score'])\n",
    "    test_score_mean = np.mean(scores_dict['test_score'])\n",
    "    training_accuracy.append(train_score_mean)\n",
    "    testing_accuracy.append(test_score_mean)\n",
    "\n",
    "plt.plot(max_iter, training_accuracy, label = 'training accuracy')\n",
    "plt.plot(max_iter, testing_accuracy, label = 'testing accuracy')\n",
    "plt.xlabel('maximum number of iterations')\n",
    "plt.ylabel('Accuracy')\n",
    "plt.legend()\n",
    "    \n",
    "    \n",
    "plt.savefig('/Users/AndrewCheng/Documents/School_Subjects/COMP551/Assignment1_Data/accuracy', dpi=None, facecolor='w', edgecolor='w',\n",
    "        orientation='portrait', papertype=None, format=None,\n",
    "        transparent=False, bbox_inches=None, pad_inches=0.1,\n",
    "        frameon=None, metadata=None)#%%\n",
    "\n"
   ]
  },
  {
   "cell_type": "code",
   "execution_count": 48,
   "metadata": {
    "pycharm": {
     "is_executing": false,
     "name": "#%%\n"
    }
   },
   "outputs": [],
   "source": [
    "a1 = np.array([[1,2,3],[4,5,6],[7,8,9],[10,11,12]])\n",
    "a2 = np.array([[4,5,6],[7,8,9],[1,1,1]])\n",
    "a1_rows = a1.view([('', a1.dtype)] * a1.shape[1])\n",
    "a2_rows = a2.view([('', a2.dtype)] * a2.shape[1])\n",
    "z = np.setdiff1d(a1_rows, a2_rows).view(a1.dtype).reshape(-1, a1.shape[1])\n"
   ]
  },
  {
   "cell_type": "code",
   "execution_count": 50,
   "metadata": {
    "pycharm": {
     "is_executing": false,
     "name": "#%%\n"
    }
   },
   "outputs": [
    {
     "data": {
      "text/plain": [
       "(2, 3)"
      ]
     },
     "execution_count": 50,
     "metadata": {},
     "output_type": "execute_result"
    }
   ],
   "source": [
    "z.shape"
   ]
  },
  {
   "cell_type": "code",
   "execution_count": 51,
   "metadata": {
    "pycharm": {
     "is_executing": false,
     "name": "#%%\n"
    }
   },
   "outputs": [
    {
     "data": {
      "text/plain": [
       "(30162, 84)"
      ]
     },
     "execution_count": 51,
     "metadata": {},
     "output_type": "execute_result"
    }
   ],
   "source": [
    "X.shape"
   ]
  },
  {
   "cell_type": "code",
   "execution_count": 52,
   "metadata": {
    "pycharm": {
     "is_executing": false,
     "name": "#%%\n"
    }
   },
   "outputs": [
    {
     "data": {
      "text/plain": [
       "array([[   50,    13,     0, ...,     1,     0,     0],\n",
       "       [   38,     9,     0, ...,     1,     0,     0],\n",
       "       [   53,     7,     0, ...,     1,     0,     0],\n",
       "       ...,\n",
       "       [   22,     9,     0, ...,     1,     0,     0],\n",
       "       [   52,     9, 15024, ...,     1,     0,     0],\n",
       "       [   39,    13,  2174, ...,     1,     0,     0]])"
      ]
     },
     "execution_count": 52,
     "metadata": {},
     "output_type": "execute_result"
    }
   ],
   "source": [
    "X"
   ]
  },
  {
   "cell_type": "code",
   "execution_count": 54,
   "metadata": {
    "pycharm": {
     "is_executing": false,
     "name": "#%%\n"
    }
   },
   "outputs": [
    {
     "data": {
      "text/plain": [
       "dtype('int64')"
      ]
     },
     "execution_count": 54,
     "metadata": {},
     "output_type": "execute_result"
    }
   ],
   "source": [
    "X.dtype"
   ]
  },
  {
   "cell_type": "code",
   "execution_count": null,
   "metadata": {
    "pycharm": {
     "name": "#%%\n"
    }
   },
   "outputs": [],
   "source": [
    "\n"
   ]
  }
 ],
 "metadata": {
  "kernelspec": {
   "display_name": "Python 3",
   "language": "python",
   "name": "python3"
  },
  "language_info": {
   "codemirror_mode": {
    "name": "ipython",
    "version": 3
   },
   "file_extension": ".py",
   "mimetype": "text/x-python",
   "name": "python",
   "nbconvert_exporter": "python",
   "pygments_lexer": "ipython3",
   "version": "3.7.3"
  },
  "pycharm": {
   "stem_cell": {
    "cell_type": "raw",
    "metadata": {
     "collapsed": false
    },
    "source": []
   }
  }
 },
 "nbformat": 4,
 "nbformat_minor": 1
}
