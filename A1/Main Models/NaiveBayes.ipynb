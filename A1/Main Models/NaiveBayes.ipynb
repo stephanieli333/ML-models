{
 "cells": [
  {
   "cell_type": "code",
   "execution_count": 14,
   "metadata": {
    "collapsed": true,
    "pycharm": {
     "is_executing": false
    }
   },
   "outputs": [],
   "source": [
    "from scipy import sparse\n",
    "import sklearn\n",
    "import numpy as np\n",
    "import pandas as pd\n",
    "import mglearn\n",
    "import matplotlib.pyplot as plt\n",
    "from sklearn.model_selection import train_test_split\n",
    "from sklearn.naive_bayes import GaussianNB\n"
   ]
  },
  {
   "cell_type": "code",
   "execution_count": 8,
   "outputs": [],
   "source": [
    "banknote = pd.read_csv('/Users/AndrewCheng/Documents/School_Subjects/COMP551/Assignment1_Data/banknote_cleaned.csv')\n"
   ],
   "metadata": {
    "collapsed": false,
    "pycharm": {
     "name": "#%%\n",
     "is_executing": false
    }
   }
  },
  {
   "cell_type": "code",
   "execution_count": 9,
   "outputs": [
    {
     "data": {
      "text/plain": "      variance  skewness  curtosis  entropy  class\n0      4.54590   8.16740   -2.4586 -1.46210      0\n1      3.86600  -2.63830    1.9242  0.10645      0\n2      3.45660   9.52280   -4.0112 -3.59440      0\n3      0.32924  -4.45520    4.5718 -0.98880      0\n4      4.36840   9.67180   -3.9606 -3.16250      0\n...        ...       ...       ...      ...    ...\n1366   0.40614   1.34920   -1.4501 -0.55949      1\n1367  -1.38870  -4.87730    6.4774  0.34179      1\n1368  -3.75030 -13.45860   17.5932 -2.77710      1\n1369  -3.56370  -8.38270   12.3930 -1.28230      1\n1370  -2.54190  -0.65804    2.6842  1.19520      1\n\n[1371 rows x 5 columns]",
      "text/html": "<div>\n<style scoped>\n    .dataframe tbody tr th:only-of-type {\n        vertical-align: middle;\n    }\n\n    .dataframe tbody tr th {\n        vertical-align: top;\n    }\n\n    .dataframe thead th {\n        text-align: right;\n    }\n</style>\n<table border=\"1\" class=\"dataframe\">\n  <thead>\n    <tr style=\"text-align: right;\">\n      <th></th>\n      <th>variance</th>\n      <th>skewness</th>\n      <th>curtosis</th>\n      <th>entropy</th>\n      <th>class</th>\n    </tr>\n  </thead>\n  <tbody>\n    <tr>\n      <th>0</th>\n      <td>4.54590</td>\n      <td>8.16740</td>\n      <td>-2.4586</td>\n      <td>-1.46210</td>\n      <td>0</td>\n    </tr>\n    <tr>\n      <th>1</th>\n      <td>3.86600</td>\n      <td>-2.63830</td>\n      <td>1.9242</td>\n      <td>0.10645</td>\n      <td>0</td>\n    </tr>\n    <tr>\n      <th>2</th>\n      <td>3.45660</td>\n      <td>9.52280</td>\n      <td>-4.0112</td>\n      <td>-3.59440</td>\n      <td>0</td>\n    </tr>\n    <tr>\n      <th>3</th>\n      <td>0.32924</td>\n      <td>-4.45520</td>\n      <td>4.5718</td>\n      <td>-0.98880</td>\n      <td>0</td>\n    </tr>\n    <tr>\n      <th>4</th>\n      <td>4.36840</td>\n      <td>9.67180</td>\n      <td>-3.9606</td>\n      <td>-3.16250</td>\n      <td>0</td>\n    </tr>\n    <tr>\n      <th>...</th>\n      <td>...</td>\n      <td>...</td>\n      <td>...</td>\n      <td>...</td>\n      <td>...</td>\n    </tr>\n    <tr>\n      <th>1366</th>\n      <td>0.40614</td>\n      <td>1.34920</td>\n      <td>-1.4501</td>\n      <td>-0.55949</td>\n      <td>1</td>\n    </tr>\n    <tr>\n      <th>1367</th>\n      <td>-1.38870</td>\n      <td>-4.87730</td>\n      <td>6.4774</td>\n      <td>0.34179</td>\n      <td>1</td>\n    </tr>\n    <tr>\n      <th>1368</th>\n      <td>-3.75030</td>\n      <td>-13.45860</td>\n      <td>17.5932</td>\n      <td>-2.77710</td>\n      <td>1</td>\n    </tr>\n    <tr>\n      <th>1369</th>\n      <td>-3.56370</td>\n      <td>-8.38270</td>\n      <td>12.3930</td>\n      <td>-1.28230</td>\n      <td>1</td>\n    </tr>\n    <tr>\n      <th>1370</th>\n      <td>-2.54190</td>\n      <td>-0.65804</td>\n      <td>2.6842</td>\n      <td>1.19520</td>\n      <td>1</td>\n    </tr>\n  </tbody>\n</table>\n<p>1371 rows × 5 columns</p>\n</div>"
     },
     "metadata": {},
     "output_type": "execute_result",
     "execution_count": 9
    }
   ],
   "source": [
    "banknote = banknote.drop(banknote.columns[0], axis=1)\n",
    "banknote"
   ],
   "metadata": {
    "collapsed": false,
    "pycharm": {
     "name": "#%%\n",
     "is_executing": false
    }
   }
  },
  {
   "cell_type": "code",
   "execution_count": 10,
   "outputs": [],
   "source": [
    "X = np.array(np.)"
   ],
   "metadata": {
    "collapsed": false,
    "pycharm": {
     "name": "#%%\n",
     "is_executing": false
    }
   }
  },
  {
   "cell_type": "code",
   "execution_count": 13,
   "outputs": [],
   "source": [
    "\n"
   ],
   "metadata": {
    "collapsed": false,
    "pycharm": {
     "name": "#%%\n",
     "is_executing": false
    }
   }
  },
  {
   "cell_type": "code",
   "execution_count": 12,
   "outputs": [
    {
     "data": {
      "text/plain": "      variance  skewness  curtosis   entropy  class\n50     5.26200   3.98340 -1.557200  1.010300      0\n976   -1.23900  -6.54100  4.815100 -0.033204      1\n958   -6.39790   6.44790  1.083600 -6.617600      1\n136    5.03200   8.20260 -2.625600 -1.034100      0\n742    4.79260   1.70710 -0.051701  1.492600      0\n...        ...       ...       ...       ...    ...\n1159  -1.59510  -6.57200  4.768900 -0.943540      1\n504    2.56500   8.63300 -2.994100 -1.308200      0\n1052  -0.83535   0.80494 -1.641100 -0.192250      1\n344   -1.85840   7.88600 -1.664300 -1.838400      0\n228    5.49440   1.54780  0.041694  1.928400      0\n\n[275 rows x 5 columns]",
      "text/html": "<div>\n<style scoped>\n    .dataframe tbody tr th:only-of-type {\n        vertical-align: middle;\n    }\n\n    .dataframe tbody tr th {\n        vertical-align: top;\n    }\n\n    .dataframe thead th {\n        text-align: right;\n    }\n</style>\n<table border=\"1\" class=\"dataframe\">\n  <thead>\n    <tr style=\"text-align: right;\">\n      <th></th>\n      <th>variance</th>\n      <th>skewness</th>\n      <th>curtosis</th>\n      <th>entropy</th>\n      <th>class</th>\n    </tr>\n  </thead>\n  <tbody>\n    <tr>\n      <th>50</th>\n      <td>5.26200</td>\n      <td>3.98340</td>\n      <td>-1.557200</td>\n      <td>1.010300</td>\n      <td>0</td>\n    </tr>\n    <tr>\n      <th>976</th>\n      <td>-1.23900</td>\n      <td>-6.54100</td>\n      <td>4.815100</td>\n      <td>-0.033204</td>\n      <td>1</td>\n    </tr>\n    <tr>\n      <th>958</th>\n      <td>-6.39790</td>\n      <td>6.44790</td>\n      <td>1.083600</td>\n      <td>-6.617600</td>\n      <td>1</td>\n    </tr>\n    <tr>\n      <th>136</th>\n      <td>5.03200</td>\n      <td>8.20260</td>\n      <td>-2.625600</td>\n      <td>-1.034100</td>\n      <td>0</td>\n    </tr>\n    <tr>\n      <th>742</th>\n      <td>4.79260</td>\n      <td>1.70710</td>\n      <td>-0.051701</td>\n      <td>1.492600</td>\n      <td>0</td>\n    </tr>\n    <tr>\n      <th>...</th>\n      <td>...</td>\n      <td>...</td>\n      <td>...</td>\n      <td>...</td>\n      <td>...</td>\n    </tr>\n    <tr>\n      <th>1159</th>\n      <td>-1.59510</td>\n      <td>-6.57200</td>\n      <td>4.768900</td>\n      <td>-0.943540</td>\n      <td>1</td>\n    </tr>\n    <tr>\n      <th>504</th>\n      <td>2.56500</td>\n      <td>8.63300</td>\n      <td>-2.994100</td>\n      <td>-1.308200</td>\n      <td>0</td>\n    </tr>\n    <tr>\n      <th>1052</th>\n      <td>-0.83535</td>\n      <td>0.80494</td>\n      <td>-1.641100</td>\n      <td>-0.192250</td>\n      <td>1</td>\n    </tr>\n    <tr>\n      <th>344</th>\n      <td>-1.85840</td>\n      <td>7.88600</td>\n      <td>-1.664300</td>\n      <td>-1.838400</td>\n      <td>0</td>\n    </tr>\n    <tr>\n      <th>228</th>\n      <td>5.49440</td>\n      <td>1.54780</td>\n      <td>0.041694</td>\n      <td>1.928400</td>\n      <td>0</td>\n    </tr>\n  </tbody>\n</table>\n<p>275 rows × 5 columns</p>\n</div>"
     },
     "metadata": {},
     "output_type": "execute_result",
     "execution_count": 12
    }
   ],
   "source": [],
   "metadata": {
    "collapsed": false,
    "pycharm": {
     "name": "#%%\n",
     "is_executing": false
    }
   }
  },
  {
   "cell_type": "code",
   "execution_count": null,
   "outputs": [],
   "source": [
    "\n"
   ],
   "metadata": {
    "collapsed": false,
    "pycharm": {
     "name": "#%%\n"
    }
   }
  }
 ],
 "metadata": {
  "language_info": {
   "codemirror_mode": {
    "name": "ipython",
    "version": 2
   },
   "file_extension": ".py",
   "mimetype": "text/x-python",
   "name": "python",
   "nbconvert_exporter": "python",
   "pygments_lexer": "ipython2",
   "version": "2.7.6"
  },
  "kernelspec": {
   "name": "python3",
   "language": "python",
   "display_name": "Python 3"
  },
  "pycharm": {
   "stem_cell": {
    "cell_type": "raw",
    "source": [],
    "metadata": {
     "collapsed": false
    }
   }
  }
 },
 "nbformat": 4,
 "nbformat_minor": 0
}